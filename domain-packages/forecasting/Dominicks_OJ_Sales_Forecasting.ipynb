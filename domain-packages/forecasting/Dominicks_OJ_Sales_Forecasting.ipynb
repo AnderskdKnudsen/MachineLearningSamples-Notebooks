{
 "cells": [
  {
   "cell_type": "markdown",
   "metadata": {},
   "source": [
    "# Build and deploy forecasting models with Azure Machine Learning\n",
    "\n",
    "In this article, learn how to use **Azure Machine Learning Package for Forecasting** (AMLPF) to quickly build and deploy a forecasting model. The workflow is as follows:\n",
    "\n",
    "1. Load and explore data\n",
    "2. Create features\n",
    "3. Train and select the best model\n",
    "4. Deploy the model and consume the web service\n",
    "\n",
    "Consult the [package reference documentation](https://aka.ms/aml-packages/forecasting) for the full list of transformers and models as well as the detailed reference for each module and class.\n",
    "\n",
    "## Prerequisites\n",
    "\n",
    "1. If you don't have an Azure subscription, create a [free account](https://azure.microsoft.com/free/?WT.mc_id=A261C142F) before you begin.\n",
    "\n",
    "1. The following accounts and application must be set up and installed:\n",
    "   - An Azure Machine Learning Experimentation account \n",
    "   - An Azure Machine Learning Model Management account\n",
    "   - Azure Machine Learning Workbench installed \n",
    "   \n",
    "1. The Azure Machine Learning Package for Forecasting must be installed. Learn how to [install this package here](https://aka.ms/aml-packages/forecasting).\n",
    "\n",
    "\n",
    "\n",
    "## Sample data and Jupyter notebook\n",
    "\n",
    "### Sample workflow \n",
    "The example follows the workflow:\n",
    " \n",
    "1. **Ingest Data**: Load the dataset and convert it into TimeSeriesDataFrame. This dataframe is a time series data structure provided by Azure Machine Learning Package for Forecasting, herein referred to as **AMLPF**.\n",
    "\n",
    "2. **Create Features**: Use various featurization transformers provided by AMLPF to create features.\n",
    "\n",
    "3. **Train and Select Best Model**: Compare the performance of various univariate time series models and machine learning models. \n",
    "\n",
    "4. **Deploy Model**: Deploy the trained model pipeline as a web service via Azure Machine Learning Workbench so it can be consumed by others.\n",
    "\n",
    "\n",
    "### Explore the sample data\n",
    "\n",
    "The machine learning forecasting examples in the follow code samples rely on the [University of Chicago's Dominick's Finer Foods dataset](https://research.chicagobooth.edu/kilts/marketing-databases/dominicks) to forecast orange juice sales. Dominick's was a grocery chain in the Chicago metropolitan area.\n",
    "\n",
    "\n"
   ]
  },
  {
   "cell_type": "markdown",
   "metadata": {},
   "source": [
    "### Import any dependencies for this sample\n",
    "\n",
    "These dependencies must be imported for the following code samples"
   ]
  },
  {
   "cell_type": "code",
   "execution_count": 1,
   "metadata": {
    "collapsed": false
   },
   "outputs": [
    {
     "name": "stdout",
     "output_type": "stream",
     "text": [
      "imports done\n"
     ]
    }
   ],
   "source": [
    "import warnings\n",
    "\n",
    "# Suppress warnings\n",
    "warnings.filterwarnings(\"ignore\") \n",
    "\n",
    "import pandas as pd\n",
    "import numpy as np\n",
    "import math\n",
    "import pkg_resources\n",
    "from datetime import timedelta\n",
    "import matplotlib\n",
    "matplotlib.use('agg')\n",
    "from matplotlib import pyplot as plt\n",
    "\n",
    "from sklearn.linear_model import Lasso, ElasticNet\n",
    "from sklearn.ensemble import RandomForestRegressor, GradientBoostingRegressor\n",
    "from sklearn.neighbors import KNeighborsRegressor\n",
    "\n",
    "from ftk import TimeSeriesDataFrame, ForecastDataFrame, AzureMLForecastPipeline\n",
    "from ftk.tsutils import last_n_periods_split\n",
    "\n",
    "from ftk.transforms import TimeSeriesImputer, TimeIndexFeaturizer, DropColumns\n",
    "from ftk.transforms.grain_index_featurizer import GrainIndexFeaturizer\n",
    "from ftk.models import Arima, SeasonalNaive, Naive, RegressionForecaster, ETS\n",
    "from ftk.models.forecasterunion import ForecasterUnion\n",
    "from ftk.model_selection import TSGridSearchCV, RollingOriginValidator\n",
    "\n",
    "from azuremltkbase.deployment import AMLSettings\n",
    "from ftk.operationalization.forecast_webservice_factory import ForecastWebserviceFactory\n",
    "from ftk.operationalization import ScoreContext\n",
    "\n",
    "from ftk.data import get_a_year_of_daily_weather_data\n",
    "print('imports done')"
   ]
  },
  {
   "cell_type": "markdown",
   "metadata": {},
   "source": [
    "## Load data and explore\n",
    "\n",
    "This code snippet shows the typical process of starting with a raw data set, in this case the [data from Dominick's Finer Foods](https://research.chicagobooth.edu/kilts/marketing-databases/dominicks).  You can also use the convenience function [load_dominicks_oj_data](https://docs.microsoft.com/en-us/python/api/ftk.data.dominicks_oj.load_dominicks_oj_data)."
   ]
  },
  {
   "cell_type": "code",
   "execution_count": 2,
   "metadata": {
    "collapsed": false
   },
   "outputs": [
    {
     "data": {
      "text/html": [
       "<div>\n",
       "<style>\n",
       "    .dataframe thead tr:only-child th {\n",
       "        text-align: right;\n",
       "    }\n",
       "\n",
       "    .dataframe thead th {\n",
       "        text-align: left;\n",
       "    }\n",
       "\n",
       "    .dataframe tbody tr th {\n",
       "        vertical-align: top;\n",
       "    }\n",
       "</style>\n",
       "<table border=\"1\" class=\"dataframe\">\n",
       "  <thead>\n",
       "    <tr style=\"text-align: right;\">\n",
       "      <th></th>\n",
       "      <th>store</th>\n",
       "      <th>brand</th>\n",
       "      <th>week</th>\n",
       "      <th>logmove</th>\n",
       "      <th>feat</th>\n",
       "      <th>price</th>\n",
       "      <th>AGE60</th>\n",
       "      <th>EDUC</th>\n",
       "      <th>ETHNIC</th>\n",
       "      <th>INCOME</th>\n",
       "      <th>HHLARGE</th>\n",
       "      <th>WORKWOM</th>\n",
       "      <th>HVAL150</th>\n",
       "      <th>SSTRDIST</th>\n",
       "      <th>SSTRVOL</th>\n",
       "      <th>CPDIST5</th>\n",
       "      <th>CPWVOL5</th>\n",
       "    </tr>\n",
       "  </thead>\n",
       "  <tbody>\n",
       "    <tr>\n",
       "      <th>0</th>\n",
       "      <td>2</td>\n",
       "      <td>tropicana</td>\n",
       "      <td>40</td>\n",
       "      <td>9.02</td>\n",
       "      <td>0</td>\n",
       "      <td>3.87</td>\n",
       "      <td>0.23</td>\n",
       "      <td>0.25</td>\n",
       "      <td>0.11</td>\n",
       "      <td>10.55</td>\n",
       "      <td>0.10</td>\n",
       "      <td>0.30</td>\n",
       "      <td>0.46</td>\n",
       "      <td>2.11</td>\n",
       "      <td>1.14</td>\n",
       "      <td>1.93</td>\n",
       "      <td>0.38</td>\n",
       "    </tr>\n",
       "    <tr>\n",
       "      <th>1</th>\n",
       "      <td>2</td>\n",
       "      <td>tropicana</td>\n",
       "      <td>46</td>\n",
       "      <td>8.72</td>\n",
       "      <td>0</td>\n",
       "      <td>3.87</td>\n",
       "      <td>0.23</td>\n",
       "      <td>0.25</td>\n",
       "      <td>0.11</td>\n",
       "      <td>10.55</td>\n",
       "      <td>0.10</td>\n",
       "      <td>0.30</td>\n",
       "      <td>0.46</td>\n",
       "      <td>2.11</td>\n",
       "      <td>1.14</td>\n",
       "      <td>1.93</td>\n",
       "      <td>0.38</td>\n",
       "    </tr>\n",
       "    <tr>\n",
       "      <th>2</th>\n",
       "      <td>2</td>\n",
       "      <td>tropicana</td>\n",
       "      <td>47</td>\n",
       "      <td>8.25</td>\n",
       "      <td>0</td>\n",
       "      <td>3.87</td>\n",
       "      <td>0.23</td>\n",
       "      <td>0.25</td>\n",
       "      <td>0.11</td>\n",
       "      <td>10.55</td>\n",
       "      <td>0.10</td>\n",
       "      <td>0.30</td>\n",
       "      <td>0.46</td>\n",
       "      <td>2.11</td>\n",
       "      <td>1.14</td>\n",
       "      <td>1.93</td>\n",
       "      <td>0.38</td>\n",
       "    </tr>\n",
       "    <tr>\n",
       "      <th>3</th>\n",
       "      <td>2</td>\n",
       "      <td>tropicana</td>\n",
       "      <td>48</td>\n",
       "      <td>8.99</td>\n",
       "      <td>0</td>\n",
       "      <td>3.87</td>\n",
       "      <td>0.23</td>\n",
       "      <td>0.25</td>\n",
       "      <td>0.11</td>\n",
       "      <td>10.55</td>\n",
       "      <td>0.10</td>\n",
       "      <td>0.30</td>\n",
       "      <td>0.46</td>\n",
       "      <td>2.11</td>\n",
       "      <td>1.14</td>\n",
       "      <td>1.93</td>\n",
       "      <td>0.38</td>\n",
       "    </tr>\n",
       "    <tr>\n",
       "      <th>4</th>\n",
       "      <td>2</td>\n",
       "      <td>tropicana</td>\n",
       "      <td>50</td>\n",
       "      <td>9.09</td>\n",
       "      <td>0</td>\n",
       "      <td>3.87</td>\n",
       "      <td>0.23</td>\n",
       "      <td>0.25</td>\n",
       "      <td>0.11</td>\n",
       "      <td>10.55</td>\n",
       "      <td>0.10</td>\n",
       "      <td>0.30</td>\n",
       "      <td>0.46</td>\n",
       "      <td>2.11</td>\n",
       "      <td>1.14</td>\n",
       "      <td>1.93</td>\n",
       "      <td>0.38</td>\n",
       "    </tr>\n",
       "  </tbody>\n",
       "</table>\n",
       "</div>"
      ],
      "text/plain": [
       "   store      brand  week  logmove  feat  price  AGE60  EDUC  ETHNIC  INCOME  \\\n",
       "0      2  tropicana    40     9.02     0   3.87   0.23  0.25    0.11   10.55   \n",
       "1      2  tropicana    46     8.72     0   3.87   0.23  0.25    0.11   10.55   \n",
       "2      2  tropicana    47     8.25     0   3.87   0.23  0.25    0.11   10.55   \n",
       "3      2  tropicana    48     8.99     0   3.87   0.23  0.25    0.11   10.55   \n",
       "4      2  tropicana    50     9.09     0   3.87   0.23  0.25    0.11   10.55   \n",
       "\n",
       "   HHLARGE  WORKWOM  HVAL150  SSTRDIST  SSTRVOL  CPDIST5  CPWVOL5  \n",
       "0     0.10     0.30     0.46      2.11     1.14     1.93     0.38  \n",
       "1     0.10     0.30     0.46      2.11     1.14     1.93     0.38  \n",
       "2     0.10     0.30     0.46      2.11     1.14     1.93     0.38  \n",
       "3     0.10     0.30     0.46      2.11     1.14     1.93     0.38  \n",
       "4     0.10     0.30     0.46      2.11     1.14     1.93     0.38  "
      ]
     },
     "execution_count": 2,
     "metadata": {},
     "output_type": "execute_result"
    }
   ],
   "source": [
    "# Load the data into a pandas DataFrame\n",
    "csv_path = pkg_resources.resource_filename('ftk', 'data/dominicks_oj/dominicks_oj.csv')\n",
    "whole_df = pd.read_csv(csv_path, low_memory = False)\n",
    "whole_df.head()"
   ]
  },
  {
   "cell_type": "markdown",
   "metadata": {},
   "source": [
    "The data consist of weekly sales by brand and store. The logarithm of the quantity sold is in the _logmove_ column. The data also includes some customer demographic features. \n",
    "\n",
    "To model the time series, you need to extract the following elements from this dataframe: \n",
    "+ A date/time axis \n",
    "+ The sales quantity to be forecast"
   ]
  },
  {
   "cell_type": "code",
   "execution_count": 3,
   "metadata": {
    "collapsed": false
   },
   "outputs": [
    {
     "data": {
      "text/html": [
       "<div>\n",
       "<style>\n",
       "    .dataframe thead tr:only-child th {\n",
       "        text-align: right;\n",
       "    }\n",
       "\n",
       "    .dataframe thead th {\n",
       "        text-align: left;\n",
       "    }\n",
       "\n",
       "    .dataframe tbody tr th {\n",
       "        vertical-align: top;\n",
       "    }\n",
       "</style>\n",
       "<table border=\"1\" class=\"dataframe\">\n",
       "  <thead>\n",
       "    <tr style=\"text-align: right;\">\n",
       "      <th></th>\n",
       "      <th>store</th>\n",
       "      <th>brand</th>\n",
       "      <th>WeekLastDay</th>\n",
       "      <th>Quantity</th>\n",
       "    </tr>\n",
       "  </thead>\n",
       "  <tbody>\n",
       "    <tr>\n",
       "      <th>0</th>\n",
       "      <td>2</td>\n",
       "      <td>tropicana</td>\n",
       "      <td>1990-06-20 23:59:59</td>\n",
       "      <td>8256</td>\n",
       "    </tr>\n",
       "    <tr>\n",
       "      <th>1</th>\n",
       "      <td>2</td>\n",
       "      <td>tropicana</td>\n",
       "      <td>1990-08-01 23:59:59</td>\n",
       "      <td>6144</td>\n",
       "    </tr>\n",
       "    <tr>\n",
       "      <th>2</th>\n",
       "      <td>2</td>\n",
       "      <td>tropicana</td>\n",
       "      <td>1990-08-08 23:59:59</td>\n",
       "      <td>3840</td>\n",
       "    </tr>\n",
       "    <tr>\n",
       "      <th>3</th>\n",
       "      <td>2</td>\n",
       "      <td>tropicana</td>\n",
       "      <td>1990-08-15 23:59:59</td>\n",
       "      <td>8000</td>\n",
       "    </tr>\n",
       "    <tr>\n",
       "      <th>4</th>\n",
       "      <td>2</td>\n",
       "      <td>tropicana</td>\n",
       "      <td>1990-08-29 23:59:59</td>\n",
       "      <td>8896</td>\n",
       "    </tr>\n",
       "  </tbody>\n",
       "</table>\n",
       "</div>"
      ],
      "text/plain": [
       "   store      brand         WeekLastDay  Quantity\n",
       "0      2  tropicana 1990-06-20 23:59:59      8256\n",
       "1      2  tropicana 1990-08-01 23:59:59      6144\n",
       "2      2  tropicana 1990-08-08 23:59:59      3840\n",
       "3      2  tropicana 1990-08-15 23:59:59      8000\n",
       "4      2  tropicana 1990-08-29 23:59:59      8896"
      ]
     },
     "execution_count": 3,
     "metadata": {},
     "output_type": "execute_result"
    }
   ],
   "source": [
    "# The sales are contained in the 'logmove' column. \n",
    "# Values are logarithmic, so exponentiate and round them to get quantity sold\n",
    "def expround(x):\n",
    "    return math.floor(math.exp(x) + 0.5)\n",
    "whole_df['Quantity'] = whole_df['logmove'].apply(expround)\n",
    "\n",
    "# The time axis is in the 'week' column\n",
    "# This is the week offset from the week of 1989-09-07 through 1989-09-13 inclusive\n",
    "# Create new datetime columns containing the start and end of each week period\n",
    "weekZeroStart = pd.to_datetime('1989-09-07 00:00:00')\n",
    "weekZeroEnd = pd.to_datetime('1989-09-13 23:59:59')\n",
    "whole_df['WeekFirstDay'] = whole_df['week'].apply(lambda n: weekZeroStart + timedelta(weeks=n))\n",
    "whole_df['WeekLastDay'] = whole_df['week'].apply(lambda n: weekZeroEnd + timedelta(weeks=n))\n",
    "whole_df[['store','brand','WeekLastDay','Quantity']].head()"
   ]
  },
  {
   "cell_type": "code",
   "execution_count": 4,
   "metadata": {
    "collapsed": false
   },
   "outputs": [
    {
     "name": "stdout",
     "output_type": "stream",
     "text": [
      "249 time series in the data frame.\n"
     ]
    }
   ],
   "source": [
    "nseries = whole_df.groupby(['store', 'brand']).ngroups\n",
    "print('{} time series in the data frame.'.format(nseries))"
   ]
  },
  {
   "cell_type": "markdown",
   "metadata": {},
   "source": [
    "The data contains approximately 250 different combinations of store and brand in a data frame. Each combination defines its own time series of sales. \n",
    "\n",
    "You can use the [TimeSeriesDataFrame](https://docs.microsoft.com/python/api/ftk.dataframets.timeseriesdataframe)  class to conveniently model multiple series in a single data structure using the _grain_. The grain is specified by the `store` and `brand` columns.\n",
    "\n",
    "The difference between _grain_ and _group_ is that grain is always physically meaningful in the real world, while group doesn't have to be. Internal package functions use group to build a single model from multiple time series if the user believes this grouping helps improve model performance. By default, group is set to be equal to grain, and a single model is built for each grain. "
   ]
  },
  {
   "cell_type": "code",
   "execution_count": 5,
   "metadata": {
    "collapsed": false
   },
   "outputs": [
    {
     "data": {
      "text/html": [
       "<div>\n",
       "<style>\n",
       "    .dataframe thead tr:only-child th {\n",
       "        text-align: right;\n",
       "    }\n",
       "\n",
       "    .dataframe thead th {\n",
       "        text-align: left;\n",
       "    }\n",
       "\n",
       "    .dataframe tbody tr th {\n",
       "        vertical-align: top;\n",
       "    }\n",
       "</style>\n",
       "<table border=\"1\" class=\"dataframe\">\n",
       "  <thead>\n",
       "    <tr style=\"text-align: right;\">\n",
       "      <th></th>\n",
       "      <th></th>\n",
       "      <th></th>\n",
       "      <th>Quantity</th>\n",
       "    </tr>\n",
       "    <tr>\n",
       "      <th>WeekLastDay</th>\n",
       "      <th>store</th>\n",
       "      <th>brand</th>\n",
       "      <th></th>\n",
       "    </tr>\n",
       "  </thead>\n",
       "  <tbody>\n",
       "    <tr>\n",
       "      <th>1990-06-20 23:59:59</th>\n",
       "      <th>2</th>\n",
       "      <th>tropicana</th>\n",
       "      <td>8256</td>\n",
       "    </tr>\n",
       "    <tr>\n",
       "      <th>1990-08-01 23:59:59</th>\n",
       "      <th>2</th>\n",
       "      <th>tropicana</th>\n",
       "      <td>6144</td>\n",
       "    </tr>\n",
       "    <tr>\n",
       "      <th>1990-08-08 23:59:59</th>\n",
       "      <th>2</th>\n",
       "      <th>tropicana</th>\n",
       "      <td>3840</td>\n",
       "    </tr>\n",
       "    <tr>\n",
       "      <th>1990-08-15 23:59:59</th>\n",
       "      <th>2</th>\n",
       "      <th>tropicana</th>\n",
       "      <td>8000</td>\n",
       "    </tr>\n",
       "    <tr>\n",
       "      <th>1990-08-29 23:59:59</th>\n",
       "      <th>2</th>\n",
       "      <th>tropicana</th>\n",
       "      <td>8896</td>\n",
       "    </tr>\n",
       "  </tbody>\n",
       "</table>\n",
       "</div>"
      ],
      "text/plain": [
       "                                     Quantity\n",
       "WeekLastDay         store brand              \n",
       "1990-06-20 23:59:59 2     tropicana      8256\n",
       "1990-08-01 23:59:59 2     tropicana      6144\n",
       "1990-08-08 23:59:59 2     tropicana      3840\n",
       "1990-08-15 23:59:59 2     tropicana      8000\n",
       "1990-08-29 23:59:59 2     tropicana      8896"
      ]
     },
     "execution_count": 5,
     "metadata": {},
     "output_type": "execute_result"
    }
   ],
   "source": [
    "# Create a TimeSeriesDataFrame\n",
    "# Use end of period as the time index\n",
    "# Store and brand combinations label the grain \n",
    "# i.e. there is one time series for each unique pair of store and grain\n",
    "whole_tsdf = TimeSeriesDataFrame(whole_df, \n",
    "                                 grain_colnames=['store', 'brand'],\n",
    "                                 time_colname='WeekLastDay', \n",
    "                                 ts_value_colname='Quantity',\n",
    "                                 group_colnames='store')\n",
    "\n",
    "whole_tsdf[['Quantity']].head()"
   ]
  },
  {
   "cell_type": "markdown",
   "metadata": {},
   "source": [
    "In the TimeSeriesDataFrame representation, the time axis and grain are now part of the data frame index, and allow easy access to pandas datetime slicing functionality."
   ]
  },
  {
   "cell_type": "code",
   "execution_count": 6,
   "metadata": {
    "collapsed": false
   },
   "outputs": [
    {
     "data": {
      "text/html": [
       "<div>\n",
       "<style>\n",
       "    .dataframe thead tr:only-child th {\n",
       "        text-align: right;\n",
       "    }\n",
       "\n",
       "    .dataframe thead th {\n",
       "        text-align: left;\n",
       "    }\n",
       "\n",
       "    .dataframe tbody tr th {\n",
       "        vertical-align: top;\n",
       "    }\n",
       "</style>\n",
       "<table border=\"1\" class=\"dataframe\">\n",
       "  <thead>\n",
       "    <tr style=\"text-align: right;\">\n",
       "      <th></th>\n",
       "      <th></th>\n",
       "      <th></th>\n",
       "      <th>Quantity</th>\n",
       "    </tr>\n",
       "    <tr>\n",
       "      <th>WeekLastDay</th>\n",
       "      <th>store</th>\n",
       "      <th>brand</th>\n",
       "      <th></th>\n",
       "    </tr>\n",
       "  </thead>\n",
       "  <tbody>\n",
       "    <tr>\n",
       "      <th>1990-06-20 23:59:59</th>\n",
       "      <th>2</th>\n",
       "      <th>dominicks</th>\n",
       "      <td>10560</td>\n",
       "    </tr>\n",
       "    <tr>\n",
       "      <th>1990-08-01 23:59:59</th>\n",
       "      <th>2</th>\n",
       "      <th>dominicks</th>\n",
       "      <td>8000</td>\n",
       "    </tr>\n",
       "    <tr>\n",
       "      <th>1990-08-08 23:59:59</th>\n",
       "      <th>2</th>\n",
       "      <th>dominicks</th>\n",
       "      <td>6848</td>\n",
       "    </tr>\n",
       "    <tr>\n",
       "      <th>1990-08-15 23:59:59</th>\n",
       "      <th>2</th>\n",
       "      <th>dominicks</th>\n",
       "      <td>2880</td>\n",
       "    </tr>\n",
       "    <tr>\n",
       "      <th>1990-08-29 23:59:59</th>\n",
       "      <th>2</th>\n",
       "      <th>dominicks</th>\n",
       "      <td>1600</td>\n",
       "    </tr>\n",
       "    <tr>\n",
       "      <th>1990-09-05 23:59:59</th>\n",
       "      <th>2</th>\n",
       "      <th>dominicks</th>\n",
       "      <td>25344</td>\n",
       "    </tr>\n",
       "    <tr>\n",
       "      <th>1990-09-12 23:59:59</th>\n",
       "      <th>2</th>\n",
       "      <th>dominicks</th>\n",
       "      <td>10752</td>\n",
       "    </tr>\n",
       "    <tr>\n",
       "      <th>1990-09-19 23:59:59</th>\n",
       "      <th>2</th>\n",
       "      <th>dominicks</th>\n",
       "      <td>6656</td>\n",
       "    </tr>\n",
       "    <tr>\n",
       "      <th>1990-09-26 23:59:59</th>\n",
       "      <th>2</th>\n",
       "      <th>dominicks</th>\n",
       "      <td>6592</td>\n",
       "    </tr>\n",
       "  </tbody>\n",
       "</table>\n",
       "</div>"
      ],
      "text/plain": [
       "                                     Quantity\n",
       "WeekLastDay         store brand              \n",
       "1990-06-20 23:59:59 2     dominicks     10560\n",
       "1990-08-01 23:59:59 2     dominicks      8000\n",
       "1990-08-08 23:59:59 2     dominicks      6848\n",
       "1990-08-15 23:59:59 2     dominicks      2880\n",
       "1990-08-29 23:59:59 2     dominicks      1600\n",
       "1990-09-05 23:59:59 2     dominicks     25344\n",
       "1990-09-12 23:59:59 2     dominicks     10752\n",
       "1990-09-19 23:59:59 2     dominicks      6656\n",
       "1990-09-26 23:59:59 2     dominicks      6592"
      ]
     },
     "execution_count": 6,
     "metadata": {},
     "output_type": "execute_result"
    }
   ],
   "source": [
    "# sort so we can slice\n",
    "whole_tsdf.sort_index(inplace=True)\n",
    "\n",
    "# Get sales of dominick's brand orange juice from store 2 during summer 1990\n",
    "whole_tsdf.loc[pd.IndexSlice['1990-06':'1990-09', 2, 'dominicks'], ['Quantity']]"
   ]
  },
  {
   "cell_type": "markdown",
   "metadata": {},
   "source": [
    "The [TimeSeriesDataFrame.ts_report](https://docs.microsoft.com/en-us/python/api/ftk.dataframets.timeseriesdataframe#ts-report) function generates a comprehensive report of the time series data frame. The report includes both a general data description as well as statistics specific to time series data. "
   ]
  },
  {
   "cell_type": "code",
   "execution_count": 7,
   "metadata": {
    "collapsed": false
   },
   "outputs": [
    {
     "name": "stdout",
     "output_type": "stream",
     "text": [
      "--------------------------------  Data Overview  ---------------------------------\n",
      "<class 'ftk.dataframets.TimeSeriesDataFrame'>\n",
      "MultiIndex: 28947 entries, (1990-06-20 23:59:59, 2, dominicks) to (1992-10-07 23:59:59, 137, tropicana)\n",
      "Data columns (total 17 columns):\n",
      "week            28947 non-null int64\n",
      "logmove         28947 non-null float64\n",
      "feat            28947 non-null int64\n",
      "price           28947 non-null float64\n",
      "AGE60           28947 non-null float64\n",
      "EDUC            28947 non-null float64\n",
      "ETHNIC          28947 non-null float64\n",
      "INCOME          28947 non-null float64\n",
      "HHLARGE         28947 non-null float64\n",
      "WORKWOM         28947 non-null float64\n",
      "HVAL150         28947 non-null float64\n",
      "SSTRDIST        28947 non-null float64\n",
      "SSTRVOL         28947 non-null float64\n",
      "CPDIST5         28947 non-null float64\n",
      "CPWVOL5         28947 non-null float64\n",
      "Quantity        28947 non-null int64\n",
      "WeekFirstDay    28947 non-null datetime64[ns]\n",
      "dtypes: datetime64[ns](1), float64(13), int64(3)\n",
      "memory usage: 3.8+ MB\n",
      "--------------------------  Numerical Variable Summary  --------------------------\n",
      "          week  logmove     feat    price    AGE60     EDUC   ETHNIC   INCOME  \\\n",
      "count 28947.00 28947.00 28947.00 28947.00 28947.00 28947.00 28947.00 28947.00   \n",
      "mean    100.46     9.17     0.24     2.28     0.17     0.23     0.16    10.62   \n",
      "std      34.69     1.02     0.43     0.65     0.06     0.11     0.19     0.28   \n",
      "min      40.00     4.16     0.00     0.52     0.06     0.05     0.02     9.87   \n",
      "25%      70.00     8.49     0.00     1.79     0.12     0.15     0.04    10.46   \n",
      "50%     101.00     9.03     0.00     2.17     0.17     0.23     0.07    10.64   \n",
      "75%     130.00     9.76     0.00     2.73     0.21     0.28     0.19    10.80   \n",
      "max     160.00    13.48     1.00     3.87     0.31     0.53     1.00    11.24   \n",
      "\n",
      "       HHLARGE  WORKWOM  HVAL150  SSTRDIST  SSTRVOL  CPDIST5  CPWVOL5  \\\n",
      "count 28947.00 28947.00 28947.00  28947.00 28947.00 28947.00 28947.00   \n",
      "mean      0.12     0.36     0.34      5.10     1.21     2.12     0.44   \n",
      "std       0.03     0.05     0.24      3.47     0.53     0.73     0.22   \n",
      "min       0.01     0.24     0.00      0.13     0.40     0.77     0.09   \n",
      "25%       0.10     0.31     0.12      2.77     0.73     1.63     0.27   \n",
      "50%       0.11     0.36     0.35      4.65     1.12     1.96     0.38   \n",
      "75%       0.14     0.40     0.53      6.65     1.54     2.53     0.56   \n",
      "max       0.22     0.47     0.92     17.86     2.57     4.11     1.14   \n",
      "\n",
      "       Quantity  \n",
      "count  28947.00  \n",
      "mean   17312.21  \n",
      "std    27477.66  \n",
      "min       64.00  \n",
      "25%     4864.00  \n",
      "50%     8384.00  \n",
      "75%    17408.00  \n",
      "max   716416.00  \n",
      "------------------------  Non-Numerical Variable Summary  -----------------------\n",
      "               WeekFirstDay\n",
      "count                 28947\n",
      "unique                  121\n",
      "top     1992-03-12 00:00:00\n",
      "freq                    249\n",
      "first   1990-06-14 00:00:00\n",
      "last    1992-10-01 00:00:00\n",
      "------------------------------  Time Series Summary  -----------------------------\n",
      "Number of time series                 249\n",
      "Minimum time                    1990-06-20 23:59:59\n",
      "Maximum time                    1992-10-07 23:59:59\n",
      "\n",
      "Inferred frequencies\n",
      "Number of ['store', 'brand']s with frequency W-WED     249\n",
      "Use get_frequency_dict() method to explore ['store', 'brand']s with unusual frequency and clean data\n",
      "\n",
      "Detected seasonalities\n",
      "Number of ['store', 'brand']s with seasonality 1         190\n",
      "Number of ['store', 'brand']s with seasonality 15        15\n",
      "Number of ['store', 'brand']s with seasonality 14        11\n",
      "Number of ['store', 'brand']s with seasonality 7         9\n",
      "Number of ['store', 'brand']s with seasonality 6         8\n",
      "Number of ['store', 'brand']s with seasonality 8         5\n",
      "Number of ['store', 'brand']s with seasonality 2         4\n",
      "Number of ['store', 'brand']s with seasonality 23        2\n",
      "Number of ['store', 'brand']s with seasonality 3         1\n",
      "Number of ['store', 'brand']s with seasonality 11        1\n",
      "Number of ['store', 'brand']s with seasonality 12        1\n",
      "Number of ['store', 'brand']s with seasonality 13        1\n",
      "Number of ['store', 'brand']s with seasonality 47        1\n",
      "Use get_seasonality_dict() method to explore ['store', 'brand']s with unusual seasonality and clean data\n",
      "-----------------------------  Value Column Summary  -----------------------------\n",
      "Value column                        Quantity\n",
      "Percentage of missing values        0.00\n",
      "Percentage of zero values           0.00\n",
      "Mean coefficient of variation       31688.52\n",
      "Median coefficient of variation     24000.20\n",
      "Minimum coefficient of variation    ['store', 'brand'] (48, 'tropicana'): 4475.53\n",
      "Maximum coefficient of variation    ['store', 'brand'] (111, 'dominicks'): 193333.55\n",
      "------------------------------  Correlation Matrix  ------------------------------\n",
      "    week  logmove  feat  price  AGE60  EDUC  ETHNIC  INCOME  HHLARGE  WORKWOM  \\\n",
      "0   1.00     0.10  0.04  -0.21  -0.01  0.01    0.00    0.00     0.01    -0.00   \n",
      "1   0.10     1.00  0.54  -0.43   0.09  0.00    0.06   -0.04    -0.06    -0.08   \n",
      "2   0.04     0.54  1.00  -0.29  -0.00  0.00    0.00   -0.00    -0.00     0.00   \n",
      "3  -0.21    -0.43 -0.29   1.00   0.04  0.02    0.04   -0.03    -0.04    -0.02   \n",
      "4  -0.01     0.09 -0.00   0.04   1.00 -0.31   -0.09   -0.15    -0.32    -0.63   \n",
      "5   0.01     0.00  0.00   0.02  -0.31  1.00   -0.34    0.66    -0.39     0.56   \n",
      "6   0.00     0.06  0.00   0.04  -0.09 -0.34    1.00   -0.72     0.25    -0.29   \n",
      "7   0.00    -0.04 -0.00  -0.03  -0.15  0.66   -0.72    1.00    -0.08     0.40   \n",
      "8   0.01    -0.06 -0.00  -0.04  -0.32 -0.39    0.25   -0.08     1.00    -0.28   \n",
      "9  -0.00    -0.08  0.00  -0.02  -0.63  0.56   -0.29    0.40    -0.28     1.00   \n",
      "10  0.01     0.02  0.00   0.04  -0.11  0.89   -0.42    0.64    -0.48     0.45   \n",
      "11  0.01    -0.00  0.00   0.08   0.07 -0.12    0.54   -0.41     0.06    -0.19   \n",
      "12 -0.01    -0.09 -0.00   0.03  -0.05 -0.13    0.23   -0.26     0.04    -0.06   \n",
      "13 -0.01     0.02 -0.00  -0.06   0.09 -0.20   -0.22    0.21     0.19    -0.13   \n",
      "14 -0.00    -0.12 -0.00  -0.01  -0.09  0.28   -0.38    0.36    -0.20     0.37   \n",
      "15  0.03     0.76  0.47  -0.36   0.08 -0.04    0.11   -0.08    -0.00    -0.10   \n",
      "\n",
      "    HVAL150  SSTRDIST  SSTRVOL  CPDIST5  CPWVOL5  Quantity  \n",
      "0      0.01      0.01    -0.01    -0.01    -0.00      0.03  \n",
      "1      0.02     -0.00    -0.09     0.02    -0.12      0.76  \n",
      "2      0.00      0.00    -0.00    -0.00    -0.00      0.47  \n",
      "3      0.04      0.08     0.03    -0.06    -0.01     -0.36  \n",
      "4     -0.11      0.07    -0.05     0.09    -0.09      0.08  \n",
      "5      0.89     -0.12    -0.13    -0.20     0.28     -0.04  \n",
      "6     -0.42      0.54     0.23    -0.22    -0.38      0.11  \n",
      "7      0.64     -0.41    -0.26     0.21     0.36     -0.08  \n",
      "8     -0.48      0.06     0.04     0.19    -0.20     -0.00  \n",
      "9      0.45     -0.19    -0.06    -0.13     0.37     -0.10  \n",
      "10     1.00     -0.17    -0.24    -0.22     0.27     -0.04  \n",
      "11    -0.17      1.00     0.17    -0.11    -0.40      0.06  \n",
      "12    -0.24      0.17     1.00    -0.05     0.36     -0.02  \n",
      "13    -0.22     -0.11    -0.05     1.00     0.02     -0.00  \n",
      "14     0.27     -0.40     0.36     0.02     1.00     -0.11  \n",
      "15    -0.04      0.06    -0.02    -0.00    -0.11      1.00  \n",
      "You may call TimeSeriesDataFrame.plot_scatter_matrix() to get a correlation matrix plot. However, this\n",
      "is not recommended if your data is big.\n"
     ]
    },
    {
     "data": {
      "image/png": "[encoded data removed]",
      "text/plain": [
       "<matplotlib.figure.Figure at 0x12aac9e3e80>"
      ]
     },
     "metadata": {},
     "output_type": "display_data"
    },
    {
     "data": {
      "image/png": "[encoded data removed]",
      "text/plain": [
       "<matplotlib.figure.Figure at 0x12aacaa1278>"
      ]
     },
     "metadata": {},
     "output_type": "display_data"
    },
    {
     "data": {
      "image/png": "[encoded data removed]",
      "text/plain": [
       "<matplotlib.figure.Figure at 0x12aacbc0ef0>"
      ]
     },
     "metadata": {},
     "output_type": "display_data"
    },
    {
     "data": {
      "image/png": "[encoded data removed]",
      "text/plain": [
       "<matplotlib.figure.Figure at 0x12aadb35940>"
      ]
     },
     "metadata": {},
     "output_type": "display_data"
    },
    {
     "data": {
      "image/png": "[encoded data removed]",
      "text/plain": [
       "<matplotlib.figure.Figure at 0x12aadb18f98>"
      ]
     },
     "metadata": {},
     "output_type": "display_data"
    },
    {
     "data": {
      "image/png": "[encoded data removed]",
      "text/plain": [
       "<matplotlib.figure.Figure at 0x12aacacea90>"
      ]
     },
     "metadata": {},
     "output_type": "display_data"
    }
   ],
   "source": [
    "%matplotlib inline\n",
    "whole_tsdf.ts_report()"
   ]
  },
  {
   "cell_type": "markdown",
   "metadata": {},
   "source": [
    "## Integrate with External Data\n",
    "\n",
    "Sometimes it's useful to integrate external data as additional features for forecasting. In this code sample, you join TimeSeriesDataFrame with external data related to weather."
   ]
  },
  {
   "cell_type": "code",
   "execution_count": 8,
   "metadata": {
    "collapsed": false
   },
   "outputs": [
    {
     "data": {
      "text/html": [
       "<div>\n",
       "<style>\n",
       "    .dataframe thead tr:only-child th {\n",
       "        text-align: right;\n",
       "    }\n",
       "\n",
       "    .dataframe thead th {\n",
       "        text-align: left;\n",
       "    }\n",
       "\n",
       "    .dataframe tbody tr th {\n",
       "        vertical-align: top;\n",
       "    }\n",
       "</style>\n",
       "<table border=\"1\" class=\"dataframe\">\n",
       "  <thead>\n",
       "    <tr style=\"text-align: right;\">\n",
       "      <th></th>\n",
       "      <th></th>\n",
       "      <th></th>\n",
       "      <th>week</th>\n",
       "      <th>logmove</th>\n",
       "      <th>feat</th>\n",
       "      <th>price</th>\n",
       "      <th>AGE60</th>\n",
       "      <th>EDUC</th>\n",
       "      <th>ETHNIC</th>\n",
       "      <th>INCOME</th>\n",
       "      <th>HHLARGE</th>\n",
       "      <th>WORKWOM</th>\n",
       "      <th>...</th>\n",
       "      <th>SSTRDIST</th>\n",
       "      <th>SSTRVOL</th>\n",
       "      <th>CPDIST5</th>\n",
       "      <th>CPWVOL5</th>\n",
       "      <th>Quantity</th>\n",
       "      <th>WeekFirstDay</th>\n",
       "      <th>TEMP</th>\n",
       "      <th>DEWP</th>\n",
       "      <th>WDSP</th>\n",
       "      <th>PRCP</th>\n",
       "    </tr>\n",
       "    <tr>\n",
       "      <th>WeekLastDay</th>\n",
       "      <th>store</th>\n",
       "      <th>brand</th>\n",
       "      <th></th>\n",
       "      <th></th>\n",
       "      <th></th>\n",
       "      <th></th>\n",
       "      <th></th>\n",
       "      <th></th>\n",
       "      <th></th>\n",
       "      <th></th>\n",
       "      <th></th>\n",
       "      <th></th>\n",
       "      <th></th>\n",
       "      <th></th>\n",
       "      <th></th>\n",
       "      <th></th>\n",
       "      <th></th>\n",
       "      <th></th>\n",
       "      <th></th>\n",
       "      <th></th>\n",
       "      <th></th>\n",
       "      <th></th>\n",
       "      <th></th>\n",
       "    </tr>\n",
       "  </thead>\n",
       "  <tbody>\n",
       "    <tr>\n",
       "      <th rowspan=\"5\" valign=\"top\">1990-06-20 23:59:59</th>\n",
       "      <th rowspan=\"3\" valign=\"top\">2</th>\n",
       "      <th>dominicks</th>\n",
       "      <td>40</td>\n",
       "      <td>9.26</td>\n",
       "      <td>1</td>\n",
       "      <td>1.59</td>\n",
       "      <td>0.23</td>\n",
       "      <td>0.25</td>\n",
       "      <td>0.11</td>\n",
       "      <td>10.55</td>\n",
       "      <td>0.10</td>\n",
       "      <td>0.30</td>\n",
       "      <td>...</td>\n",
       "      <td>2.11</td>\n",
       "      <td>1.14</td>\n",
       "      <td>1.93</td>\n",
       "      <td>0.38</td>\n",
       "      <td>10560</td>\n",
       "      <td>1990-06-14</td>\n",
       "      <td>72.00</td>\n",
       "      <td>61.87</td>\n",
       "      <td>9.74</td>\n",
       "      <td>0.19</td>\n",
       "    </tr>\n",
       "    <tr>\n",
       "      <th>minute.maid</th>\n",
       "      <td>40</td>\n",
       "      <td>8.41</td>\n",
       "      <td>0</td>\n",
       "      <td>3.17</td>\n",
       "      <td>0.23</td>\n",
       "      <td>0.25</td>\n",
       "      <td>0.11</td>\n",
       "      <td>10.55</td>\n",
       "      <td>0.10</td>\n",
       "      <td>0.30</td>\n",
       "      <td>...</td>\n",
       "      <td>2.11</td>\n",
       "      <td>1.14</td>\n",
       "      <td>1.93</td>\n",
       "      <td>0.38</td>\n",
       "      <td>4480</td>\n",
       "      <td>1990-06-14</td>\n",
       "      <td>72.00</td>\n",
       "      <td>61.87</td>\n",
       "      <td>9.74</td>\n",
       "      <td>0.19</td>\n",
       "    </tr>\n",
       "    <tr>\n",
       "      <th>tropicana</th>\n",
       "      <td>40</td>\n",
       "      <td>9.02</td>\n",
       "      <td>0</td>\n",
       "      <td>3.87</td>\n",
       "      <td>0.23</td>\n",
       "      <td>0.25</td>\n",
       "      <td>0.11</td>\n",
       "      <td>10.55</td>\n",
       "      <td>0.10</td>\n",
       "      <td>0.30</td>\n",
       "      <td>...</td>\n",
       "      <td>2.11</td>\n",
       "      <td>1.14</td>\n",
       "      <td>1.93</td>\n",
       "      <td>0.38</td>\n",
       "      <td>8256</td>\n",
       "      <td>1990-06-14</td>\n",
       "      <td>72.00</td>\n",
       "      <td>61.87</td>\n",
       "      <td>9.74</td>\n",
       "      <td>0.19</td>\n",
       "    </tr>\n",
       "    <tr>\n",
       "      <th rowspan=\"2\" valign=\"top\">5</th>\n",
       "      <th>dominicks</th>\n",
       "      <td>40</td>\n",
       "      <td>7.49</td>\n",
       "      <td>1</td>\n",
       "      <td>1.59</td>\n",
       "      <td>0.12</td>\n",
       "      <td>0.32</td>\n",
       "      <td>0.05</td>\n",
       "      <td>10.92</td>\n",
       "      <td>0.10</td>\n",
       "      <td>0.41</td>\n",
       "      <td>...</td>\n",
       "      <td>3.80</td>\n",
       "      <td>0.68</td>\n",
       "      <td>1.60</td>\n",
       "      <td>0.74</td>\n",
       "      <td>1792</td>\n",
       "      <td>1990-06-14</td>\n",
       "      <td>72.00</td>\n",
       "      <td>61.87</td>\n",
       "      <td>9.74</td>\n",
       "      <td>0.19</td>\n",
       "    </tr>\n",
       "    <tr>\n",
       "      <th>minute.maid</th>\n",
       "      <td>40</td>\n",
       "      <td>8.35</td>\n",
       "      <td>0</td>\n",
       "      <td>2.99</td>\n",
       "      <td>0.12</td>\n",
       "      <td>0.32</td>\n",
       "      <td>0.05</td>\n",
       "      <td>10.92</td>\n",
       "      <td>0.10</td>\n",
       "      <td>0.41</td>\n",
       "      <td>...</td>\n",
       "      <td>3.80</td>\n",
       "      <td>0.68</td>\n",
       "      <td>1.60</td>\n",
       "      <td>0.74</td>\n",
       "      <td>4224</td>\n",
       "      <td>1990-06-14</td>\n",
       "      <td>72.00</td>\n",
       "      <td>61.87</td>\n",
       "      <td>9.74</td>\n",
       "      <td>0.19</td>\n",
       "    </tr>\n",
       "  </tbody>\n",
       "</table>\n",
       "<p>5 rows × 21 columns</p>\n",
       "</div>"
      ],
      "text/plain": [
       "                                       week  logmove  feat  price  AGE60  \\\n",
       "WeekLastDay         store brand                                            \n",
       "1990-06-20 23:59:59 2     dominicks      40     9.26     1   1.59   0.23   \n",
       "                          minute.maid    40     8.41     0   3.17   0.23   \n",
       "                          tropicana      40     9.02     0   3.87   0.23   \n",
       "                    5     dominicks      40     7.49     1   1.59   0.12   \n",
       "                          minute.maid    40     8.35     0   2.99   0.12   \n",
       "\n",
       "                                       EDUC  ETHNIC  INCOME  HHLARGE  WORKWOM  \\\n",
       "WeekLastDay         store brand                                                 \n",
       "1990-06-20 23:59:59 2     dominicks    0.25    0.11   10.55     0.10     0.30   \n",
       "                          minute.maid  0.25    0.11   10.55     0.10     0.30   \n",
       "                          tropicana    0.25    0.11   10.55     0.10     0.30   \n",
       "                    5     dominicks    0.32    0.05   10.92     0.10     0.41   \n",
       "                          minute.maid  0.32    0.05   10.92     0.10     0.41   \n",
       "\n",
       "                                       ...   SSTRDIST  SSTRVOL  CPDIST5  \\\n",
       "WeekLastDay         store brand        ...                                \n",
       "1990-06-20 23:59:59 2     dominicks    ...       2.11     1.14     1.93   \n",
       "                          minute.maid  ...       2.11     1.14     1.93   \n",
       "                          tropicana    ...       2.11     1.14     1.93   \n",
       "                    5     dominicks    ...       3.80     0.68     1.60   \n",
       "                          minute.maid  ...       3.80     0.68     1.60   \n",
       "\n",
       "                                       CPWVOL5  Quantity  WeekFirstDay  TEMP  \\\n",
       "WeekLastDay         store brand                                                \n",
       "1990-06-20 23:59:59 2     dominicks       0.38     10560    1990-06-14 72.00   \n",
       "                          minute.maid     0.38      4480    1990-06-14 72.00   \n",
       "                          tropicana       0.38      8256    1990-06-14 72.00   \n",
       "                    5     dominicks       0.74      1792    1990-06-14 72.00   \n",
       "                          minute.maid     0.74      4224    1990-06-14 72.00   \n",
       "\n",
       "                                       DEWP  WDSP  PRCP  \n",
       "WeekLastDay         store brand                          \n",
       "1990-06-20 23:59:59 2     dominicks   61.87  9.74  0.19  \n",
       "                          minute.maid 61.87  9.74  0.19  \n",
       "                          tropicana   61.87  9.74  0.19  \n",
       "                    5     dominicks   61.87  9.74  0.19  \n",
       "                          minute.maid 61.87  9.74  0.19  \n",
       "\n",
       "[5 rows x 21 columns]"
      ]
     },
     "execution_count": 8,
     "metadata": {},
     "output_type": "execute_result"
    }
   ],
   "source": [
    "# Load weather data\n",
    "weather_1990 = get_a_year_of_daily_weather_data(year=1990)\n",
    "weather_1991 = get_a_year_of_daily_weather_data(year=1991)\n",
    "weather_1992 = get_a_year_of_daily_weather_data(year=1992)\n",
    "\n",
    "# Preprocess weather data\n",
    "weather_all = pd.concat([weather_1990, weather_1991, weather_1992])\n",
    "weather_all.reset_index(inplace=True)\n",
    "\n",
    "# Only use a subset of columns\n",
    "weather_all = weather_all[['TEMP', 'DEWP', 'WDSP', 'PRCP']]\n",
    "\n",
    "# Compute the WeekLastDay column, in order to merge with sales data\n",
    "weather_all['WeekLastDay'] = pd.Series(\n",
    "    weather_all.time_index - weekZeroStart, \n",
    "    index=weather_all.time_index).apply(lambda n: weekZeroEnd + timedelta(weeks=math.floor(n.days/7)))\n",
    "\n",
    "# Resample daily weather data to weekly data\n",
    "weather_all = weather_all.groupby('WeekLastDay').mean()\n",
    "\n",
    "# Set WeekLastDay as new time index\n",
    "weather_all = TimeSeriesDataFrame(weather_all, time_colname='WeekLastDay')\n",
    "\n",
    "# Merge weather data with sales data\n",
    "whole_tsdf = whole_tsdf.merge(weather_all, how='left', on='WeekLastDay')\n",
    "whole_tsdf.head()"
   ]
  },
  {
   "cell_type": "markdown",
   "metadata": {},
   "source": [
    "## Data preprocessing - impute missing values"
   ]
  },
  {
   "cell_type": "markdown",
   "metadata": {},
   "source": [
    "Start by splitting the data into training set and a testing set with the [ftk.tsutils.last_n_periods_split](https://docs.microsoft.com/python/api/ftk.tsutils) utility function. The resulting testing set contains the last 40 observations of each time series. "
   ]
  },
  {
   "cell_type": "code",
   "execution_count": 9,
   "metadata": {
    "collapsed": true
   },
   "outputs": [],
   "source": [
    "train_tsdf, test_tsdf = last_n_periods_split(whole_tsdf, 40)"
   ]
  },
  {
   "cell_type": "markdown",
   "metadata": {},
   "source": [
    "Basic time series models require contiguous time series. Check to see if the series are regular, meaning that they have a time index sampled at regular intervals, using the [check_regularity_by_grain](https://docs.microsoft.compython/api/ftk.dataframets.timeseriesdataframe) function."
   ]
  },
  {
   "cell_type": "code",
   "execution_count": 10,
   "metadata": {
    "collapsed": false
   },
   "outputs": [
    {
     "name": "stdout",
     "output_type": "stream",
     "text": [
      "                                          problems  regular\n",
      "store brand                                                \n",
      "2     dominicks    [Irregular datetime gaps exist]    False\n",
      "      minute.maid  [Irregular datetime gaps exist]    False\n",
      "      tropicana    [Irregular datetime gaps exist]    False\n",
      "5     dominicks    [Irregular datetime gaps exist]    False\n",
      "      minute.maid  [Irregular datetime gaps exist]    False\n",
      "      tropicana    [Irregular datetime gaps exist]    False\n",
      "8     dominicks    [Irregular datetime gaps exist]    False\n",
      "      minute.maid  [Irregular datetime gaps exist]    False\n",
      "      tropicana    [Irregular datetime gaps exist]    False\n",
      "9     dominicks    [Irregular datetime gaps exist]    False\n",
      "      minute.maid  [Irregular datetime gaps exist]    False\n",
      "      tropicana    [Irregular datetime gaps exist]    False\n",
      "12    dominicks    [Irregular datetime gaps exist]    False\n",
      "      minute.maid  [Irregular datetime gaps exist]    False\n",
      "      tropicana    [Irregular datetime gaps exist]    False\n",
      "14    dominicks    [Irregular datetime gaps exist]    False\n",
      "      minute.maid  [Irregular datetime gaps exist]    False\n",
      "      tropicana    [Irregular datetime gaps exist]    False\n",
      "18    dominicks    [Irregular datetime gaps exist]    False\n",
      "      minute.maid  [Irregular datetime gaps exist]    False\n",
      "      tropicana    [Irregular datetime gaps exist]    False\n",
      "21    dominicks    [Irregular datetime gaps exist]    False\n",
      "      minute.maid  [Irregular datetime gaps exist]    False\n",
      "      tropicana    [Irregular datetime gaps exist]    False\n",
      "28    dominicks    [Irregular datetime gaps exist]    False\n",
      "      minute.maid  [Irregular datetime gaps exist]    False\n",
      "      tropicana    [Irregular datetime gaps exist]    False\n",
      "33    dominicks    [Irregular datetime gaps exist]    False\n",
      "      minute.maid  [Irregular datetime gaps exist]    False\n",
      "      tropicana    [Irregular datetime gaps exist]    False\n",
      "...                                            ...      ...\n",
      "119   dominicks    [Irregular datetime gaps exist]    False\n",
      "      minute.maid  [Irregular datetime gaps exist]    False\n",
      "      tropicana    [Irregular datetime gaps exist]    False\n",
      "121   dominicks    [Irregular datetime gaps exist]    False\n",
      "      minute.maid  [Irregular datetime gaps exist]    False\n",
      "      tropicana    [Irregular datetime gaps exist]    False\n",
      "123   dominicks    [Irregular datetime gaps exist]    False\n",
      "      minute.maid  [Irregular datetime gaps exist]    False\n",
      "      tropicana    [Irregular datetime gaps exist]    False\n",
      "126   dominicks    [Irregular datetime gaps exist]    False\n",
      "      minute.maid  [Irregular datetime gaps exist]    False\n",
      "      tropicana    [Irregular datetime gaps exist]    False\n",
      "128   dominicks    [Irregular datetime gaps exist]    False\n",
      "      minute.maid  [Irregular datetime gaps exist]    False\n",
      "      tropicana    [Irregular datetime gaps exist]    False\n",
      "129   dominicks    [Irregular datetime gaps exist]    False\n",
      "      minute.maid  [Irregular datetime gaps exist]    False\n",
      "      tropicana    [Irregular datetime gaps exist]    False\n",
      "130   dominicks    [Irregular datetime gaps exist]    False\n",
      "      minute.maid  [Irregular datetime gaps exist]    False\n",
      "      tropicana    [Irregular datetime gaps exist]    False\n",
      "131   dominicks    [Irregular datetime gaps exist]    False\n",
      "      minute.maid  [Irregular datetime gaps exist]    False\n",
      "      tropicana    [Irregular datetime gaps exist]    False\n",
      "134   dominicks    [Irregular datetime gaps exist]    False\n",
      "      minute.maid  [Irregular datetime gaps exist]    False\n",
      "      tropicana    [Irregular datetime gaps exist]    False\n",
      "137   dominicks    [Irregular datetime gaps exist]    False\n",
      "      minute.maid  [Irregular datetime gaps exist]    False\n",
      "      tropicana    [Irregular datetime gaps exist]    False\n",
      "\n",
      "[213 rows x 2 columns]\n"
     ]
    }
   ],
   "source": [
    "ts_regularity = train_tsdf.check_regularity_by_grain()\n",
    "print(ts_regularity[ts_regularity['regular'] == False])"
   ]
  },
  {
   "cell_type": "markdown",
   "metadata": {},
   "source": [
    "You can see that most of the series (213 out of 249) are irregular. An [imputation transform](https://docs.microsoft.com/python/api/ftk.transforms.tsimputer.timeseriesimputer) is required to fill in missing sales quantity values. While there are many imputation options, the following sample code uses a linear interpolation."
   ]
  },
  {
   "cell_type": "code",
   "execution_count": 11,
   "metadata": {
    "collapsed": true
   },
   "outputs": [],
   "source": [
    "# Use a TimeSeriesImputer to linearly interpolate missing values\n",
    "imputer = TimeSeriesImputer(input_column='Quantity', \n",
    "                            option='interpolate',\n",
    "                            method='linear',\n",
    "                            freq='W-WED')\n",
    "\n",
    "train_imputed_tsdf = imputer.transform(train_tsdf)"
   ]
  },
  {
   "cell_type": "markdown",
   "metadata": {},
   "source": [
    "After the imputation code is run, the series all have a regular frequency:"
   ]
  },
  {
   "cell_type": "code",
   "execution_count": 12,
   "metadata": {
    "collapsed": false
   },
   "outputs": [
    {
     "name": "stdout",
     "output_type": "stream",
     "text": [
      "Empty DataFrame\n",
      "Columns: [problems, regular]\n",
      "Index: []\n"
     ]
    }
   ],
   "source": [
    "ts_regularity_imputed = train_imputed_tsdf.check_regularity_by_grain()\n",
    "print(ts_regularity_imputed[ts_regularity_imputed['regular'] == False])"
   ]
  },
  {
   "cell_type": "markdown",
   "metadata": {},
   "source": [
    "## Univariate Time Series Models\n",
    "\n",
    "Now that you have cleaned up the data, you can begin modeling.  Start by creating three univariate models: the \"naive\" model, the \"seasonal naive\" model, and an \"ARIMA\" model.\n",
    "* The Naive forecasting algorithm uses the actual target variable value of the last period as the forecasted value of the current period.\n",
    "\n",
    "* The Seasonal Naive algorithm uses the actual target variable value of the same time point of the previous season as the forecasted value of the current time point. Some examples include using the actual value of the same month of last year to forecast months of the current year; use the same hour of yesterday to forecast hours today. \n",
    "\n",
    "* The exponential smoothing (ETS) algorithm generates forecasts by computing the weighted averages of past observations, with the weights decaying exponentially as the observations get older. \n",
    "\n",
    "* The AutoRegressive Integrated Moving Average (ARIMA) algorithm captures the autocorrelation in time series data. For more information about ARIMA, see [this link](https://en.wikipedia.org/wiki/Autoregressive_integrated_moving_average)\n",
    "\n",
    "Start by setting certain model parameters based on your data exploration. "
   ]
  },
  {
   "cell_type": "code",
   "execution_count": 13,
   "metadata": {
    "collapsed": true
   },
   "outputs": [],
   "source": [
    "oj_series_freq = 'W-WED'\n",
    "oj_series_seasonality = 52"
   ]
  },
  {
   "cell_type": "markdown",
   "metadata": {},
   "source": [
    "### Initialize Models"
   ]
  },
  {
   "cell_type": "code",
   "execution_count": 14,
   "metadata": {
    "collapsed": true
   },
   "outputs": [],
   "source": [
    "# Initialize naive model.\n",
    "naive_model = Naive(freq=oj_series_freq)\n",
    "\n",
    "# Initialize seasonal naive model. \n",
    "seasonal_naive_model = SeasonalNaive(freq=oj_series_freq, \n",
    "                                     seasonality=oj_series_seasonality)\n",
    "\n",
    "# Initialize ETS model.\n",
    "ets_model = ETS(freq=oj_series_freq, seasonality=oj_series_seasonality)\n",
    "\n",
    "# Initialize ARIMA(p,d,q) model.\n",
    "arima_order = [2, 1, 0]\n",
    "arima_model = Arima(oj_series_freq, arima_order)"
   ]
  },
  {
   "cell_type": "markdown",
   "metadata": {},
   "source": [
    "### Combine Multiple Models\n",
    "\n",
    "The [ForecasterUnion](https://docs.microsoft.com/python/api/ftk.models.forecasterunion.forecasterunion) estimator allows you to combine multiple estimators and fit/predict on them using one line of code."
   ]
  },
  {
   "cell_type": "code",
   "execution_count": 15,
   "metadata": {
    "collapsed": true
   },
   "outputs": [],
   "source": [
    "forecaster_union = ForecasterUnion(\n",
    "    forecaster_list=[('naive', naive_model), ('seasonal_naive', seasonal_naive_model), \n",
    "                     ('ets', ets_model), ('arima', arima_model)]) "
   ]
  },
  {
   "cell_type": "markdown",
   "metadata": {},
   "source": [
    "### Fit and Predict\n",
    "\n",
    "The estimators in AMLPF follow the same API as scikit-learn estimators: a fit method for model training and a predict method for generating forecasts. "
   ]
  },
  {
   "cell_type": "markdown",
   "metadata": {},
   "source": [
    "**Train models**  \n",
    "Since these models are all univariate models, one model is fit to each grain of the data. Using AMLPF, all 249 models can be fit with just one function call."
   ]
  },
  {
   "cell_type": "code",
   "execution_count": 17,
   "metadata": {
    "collapsed": true
   },
   "outputs": [],
   "source": [
    "forecaster_union_fitted = forecaster_union.fit(train_imputed_tsdf)"
   ]
  },
  {
   "cell_type": "markdown",
   "metadata": {},
   "source": [
    "**Forecast sales on test data**  \n",
    "Similar to the fit method, you can create predictions for all 249 series in the testing data set with one call to the `predict` function. "
   ]
  },
  {
   "cell_type": "code",
   "execution_count": 19,
   "metadata": {
    "collapsed": true
   },
   "outputs": [],
   "source": [
    "forecaster_union_prediction = forecaster_union_fitted.predict(test_tsdf, retain_feature_column=True)"
   ]
  },
  {
   "cell_type": "markdown",
   "metadata": {},
   "source": [
    "**Evaluate model performance**   \n",
    "\n",
    "Now you can calculate the forecast errors on the test set. You can use the mean absolute percentage error (MAPE) here. MAPE is the mean absolute percent error relative to the actual sales values. The ```calc_error``` function provides a few built-in functions for commonly used error metrics. You can also define our custom error function to calculate MedianAPE and pass it to the err_fun argument."
   ]
  },
  {
   "cell_type": "code",
   "execution_count": 20,
   "metadata": {
    "collapsed": true
   },
   "outputs": [],
   "source": [
    "def calc_median_ape(y_true, y_pred):\n",
    "    y_true = np.array(y_true).astype(float)\n",
    "    y_pred = np.array(y_pred).astype(float)\n",
    "    y_true_rm_na = y_true[~(np.isnan(y_true) | np.isnan(y_pred))]\n",
    "    y_pred_rm_na = y_pred[~(np.isnan(y_true) | np.isnan(y_pred))]\n",
    "    y_true = y_true_rm_na\n",
    "    y_pred = y_pred_rm_na\n",
    "    if len(y_true) == 0:\n",
    "        # if there is no entries left after removing na data, return np.nan\n",
    "        return(np.nan)\n",
    "    y_true_rm_zero = y_true[y_true != 0]\n",
    "    y_pred_rm_zero = y_pred[y_true != 0]\n",
    "    if len(y_true_rm_zero) == 0:\n",
    "        # if all values are zero, np.nan will be returned.\n",
    "        return(np.nan)\n",
    "    ape = np.abs((y_true_rm_zero - y_pred_rm_zero) / y_true_rm_zero) * 100\n",
    "    median_ape = np.median(ape)\n",
    "    return median_ape"
   ]
  },
  {
   "cell_type": "code",
   "execution_count": 21,
   "metadata": {
    "collapsed": false
   },
   "outputs": [
    {
     "data": {
      "text/html": [
       "<div>\n",
       "<style>\n",
       "    .dataframe thead tr:only-child th {\n",
       "        text-align: right;\n",
       "    }\n",
       "\n",
       "    .dataframe thead th {\n",
       "        text-align: left;\n",
       "    }\n",
       "\n",
       "    .dataframe tbody tr th {\n",
       "        vertical-align: top;\n",
       "    }\n",
       "</style>\n",
       "<table border=\"1\" class=\"dataframe\">\n",
       "  <thead>\n",
       "    <tr style=\"text-align: right;\">\n",
       "      <th></th>\n",
       "      <th>ModelName</th>\n",
       "      <th>MAPE</th>\n",
       "      <th>MedianAPE</th>\n",
       "    </tr>\n",
       "  </thead>\n",
       "  <tbody>\n",
       "    <tr>\n",
       "      <th>0</th>\n",
       "      <td>arima</td>\n",
       "      <td>126.57</td>\n",
       "      <td>66.49</td>\n",
       "    </tr>\n",
       "    <tr>\n",
       "      <th>1</th>\n",
       "      <td>ets</td>\n",
       "      <td>187.89</td>\n",
       "      <td>75.73</td>\n",
       "    </tr>\n",
       "    <tr>\n",
       "      <th>2</th>\n",
       "      <td>naive</td>\n",
       "      <td>103.57</td>\n",
       "      <td>59.14</td>\n",
       "    </tr>\n",
       "    <tr>\n",
       "      <th>3</th>\n",
       "      <td>seasonal_naive</td>\n",
       "      <td>180.54</td>\n",
       "      <td>65.99</td>\n",
       "    </tr>\n",
       "  </tbody>\n",
       "</table>\n",
       "</div>"
      ],
      "text/plain": [
       "        ModelName   MAPE  MedianAPE\n",
       "0           arima 126.57      66.49\n",
       "1             ets 187.89      75.73\n",
       "2           naive 103.57      59.14\n",
       "3  seasonal_naive 180.54      65.99"
      ]
     },
     "execution_count": 21,
     "metadata": {},
     "output_type": "execute_result"
    }
   ],
   "source": [
    "forecaster_union_MAPE = forecaster_union_prediction.calc_error(err_name='MAPE',\n",
    "                                                               by='ModelName')\n",
    "forecaster_union_MedianAPE = forecaster_union_prediction.calc_error(err_name='MedianAPE', \n",
    "                                                                    err_fun=calc_median_ape,\n",
    "                                                                    by='ModelName')\n",
    "\n",
    "univariate_model_errors = forecaster_union_MAPE.merge(forecaster_union_MedianAPE, on='ModelName')\n",
    "univariate_model_errors"
   ]
  },
  {
   "cell_type": "markdown",
   "metadata": {},
   "source": [
    "## Machine Learning Models\n",
    "\n",
    "In addition to traditional univariate models, Azure Machine Learning Package for Forecasting also enables you to create machine learning models.\n",
    "\n",
    "For these models, begin by creating features."
   ]
  },
  {
   "cell_type": "markdown",
   "metadata": {},
   "source": [
    "### Feature Engineering\n",
    "\n",
    "**Transformers**   \n",
    "The package provides many transformers for time series data preprocessing and featurization. The examples that follow demonstrate some of the preprocessing and featurization functionality."
   ]
  },
  {
   "cell_type": "code",
   "execution_count": 22,
   "metadata": {
    "collapsed": true
   },
   "outputs": [],
   "source": [
    "# DropColumns: Drop columns that should not be included for modeling. `logmove` is the log of the number of \n",
    "# units sold, so providing this number would be cheating. `WeekFirstDay` would be \n",
    "# redundant since we already have a feature for the last day of the week.\n",
    "columns_to_drop = ['logmove', 'WeekFirstDay', 'week']\n",
    "column_dropper = DropColumns(columns_to_drop)\n",
    "\n",
    "# TimeSeriesImputer: Fill missing values in the features\n",
    "# First, we need to create a dictionary with key as column names and value as values used to fill missing \n",
    "# values for that column. We are going to use the mean to fill missing values for each column.\n",
    "columns_with_missing_values = train_imputed_tsdf.columns[pd.DataFrame(train_imputed_tsdf).isnull().any()].tolist()\n",
    "columns_with_missing_values = [c for c in columns_with_missing_values if c not in columns_to_drop]\n",
    "missing_value_imputation_dictionary = {}\n",
    "for c in columns_with_missing_values:\n",
    "    missing_value_imputation_dictionary[c] = train_imputed_tsdf[c].mean()\n",
    "fillna_imputer = TimeSeriesImputer(option='fillna', \n",
    "                                   input_column=columns_with_missing_values,\n",
    "                                   value=missing_value_imputation_dictionary)\n",
    "\n",
    "# TimeIndexFeaturizer: extract temporal features from timestamps\n",
    "time_index_featurizer = TimeIndexFeaturizer(correlation_cutoff=0.1, overwrite_columns=True)\n",
    "\n",
    "# GrainIndexFeaturizer: create indicator variables for stores and brands\n",
    "grain_featurizer = GrainIndexFeaturizer(overwrite_columns=True, ts_frequency=oj_series_freq)"
   ]
  },
  {
   "cell_type": "markdown",
   "metadata": {},
   "source": [
    "**Pipelines**   \n",
    "Pipeline objects make it easy to save a set of steps so they can be applied over and over again to different objects. Also, pipeline objects can be pickled to make them easily portable to other machines for deployment. You can chain all the transformers you've created so far using a pipeline. "
   ]
  },
  {
   "cell_type": "code",
   "execution_count": 23,
   "metadata": {
    "collapsed": false
   },
   "outputs": [
    {
     "name": "stdout",
     "output_type": "stream",
     "text": [
      "F1 2018-05-04 11:00:54,308 INFO azureml.timeseries - pipeline fit_transform started. \n",
      "F1 2018-05-04 11:01:02,545 INFO azureml.timeseries - pipeline fit_transform finished. Time elapsed 0:00:08.237301\n",
      "F1 2018-05-04 11:01:02,576 INFO azureml.timeseries - pipeline transforms started. \n",
      "F1 2018-05-04 11:01:19,048 INFO azureml.timeseries - pipeline transforms finished. Time elapsed 0:00:16.471961\n",
      "                                       feat  price  AGE60  EDUC  ETHNIC  \\\n",
      "WeekLastDay         store brand                                           \n",
      "1990-06-20 23:59:59 2     dominicks    1.00   1.59   0.23  0.25    0.11   \n",
      "                          minute.maid  0.00   3.17   0.23  0.25    0.11   \n",
      "                          tropicana    0.00   3.87   0.23  0.25    0.11   \n",
      "                    5     dominicks    1.00   1.59   0.12  0.32    0.05   \n",
      "                          minute.maid  0.00   2.99   0.12  0.32    0.05   \n",
      "\n",
      "                                       INCOME  HHLARGE  WORKWOM  HVAL150  \\\n",
      "WeekLastDay         store brand                                            \n",
      "1990-06-20 23:59:59 2     dominicks     10.55     0.10     0.30     0.46   \n",
      "                          minute.maid   10.55     0.10     0.30     0.46   \n",
      "                          tropicana     10.55     0.10     0.30     0.46   \n",
      "                    5     dominicks     10.92     0.10     0.41     0.54   \n",
      "                          minute.maid   10.92     0.10     0.41     0.54   \n",
      "\n",
      "                                       SSTRDIST     ...       CPWVOL5  \\\n",
      "WeekLastDay         store brand                     ...                 \n",
      "1990-06-20 23:59:59 2     dominicks        2.11     ...          0.38   \n",
      "                          minute.maid      2.11     ...          0.38   \n",
      "                          tropicana        2.11     ...          0.38   \n",
      "                    5     dominicks        3.80     ...          0.74   \n",
      "                          minute.maid      3.80     ...          0.74   \n",
      "\n",
      "                                       Quantity  TEMP  DEWP  WDSP  PRCP  year  \\\n",
      "WeekLastDay         store brand                                                 \n",
      "1990-06-20 23:59:59 2     dominicks    10560.00 72.00 61.87  9.74  0.19  1990   \n",
      "                          minute.maid   4480.00 72.00 61.87  9.74  0.19  1990   \n",
      "                          tropicana     8256.00 72.00 61.87  9.74  0.19  1990   \n",
      "                    5     dominicks     1792.00 72.00 61.87  9.74  0.19  1990   \n",
      "                          minute.maid   4224.00 72.00 61.87  9.74  0.19  1990   \n",
      "\n",
      "                                       day  grain_brand  grain_store  \n",
      "WeekLastDay         store brand                                       \n",
      "1990-06-20 23:59:59 2     dominicks     20    dominicks            2  \n",
      "                          minute.maid   20  minute.maid            2  \n",
      "                          tropicana     20    tropicana            2  \n",
      "                    5     dominicks     20    dominicks            5  \n",
      "                          minute.maid   20  minute.maid            5  \n",
      "\n",
      "[5 rows x 22 columns]\n"
     ]
    }
   ],
   "source": [
    "pipeline_ml = AzureMLForecastPipeline([('drop_columns', column_dropper), \n",
    "                                       ('fillna_imputer', fillna_imputer),\n",
    "                                       ('time_index_featurizer', time_index_featurizer),\n",
    "                                       ('grain_featurizer', grain_featurizer)\n",
    "                                      ])\n",
    "\n",
    "\n",
    "train_feature_tsdf = pipeline_ml.fit_transform(train_imputed_tsdf)\n",
    "test_feature_tsdf = pipeline_ml.transform(test_tsdf)\n",
    "\n",
    "# Let's get a look at our new feature set\n",
    "print(train_feature_tsdf.head())"
   ]
  },
  {
   "cell_type": "markdown",
   "metadata": {},
   "source": [
    " **RegressionForecaster**\n",
    "\n",
    "The [RegressionForecaster](https://docs.microsoft.com/python/api/ftk.models.regressionforecaster.regressionforecaster)  function wraps sklearn regression estimators so that they can be trained on TimeSeriesDataFrame. The wrapped forecaster also puts each group, in this case store, into the same model. The forecaster can learn one model for a group of series that were deemed similar and can be pooled together. One model for a group of series often uses the data from longer series to improve forecasts for short series. You can substitute these models for any other models in the library that support regression. "
   ]
  },
  {
   "cell_type": "code",
   "execution_count": 24,
   "metadata": {
    "collapsed": true
   },
   "outputs": [],
   "source": [
    "lasso_model = RegressionForecaster(estimator=Lasso(),\n",
    "                                   make_grain_features=False)\n",
    "elastic_net_model = RegressionForecaster(estimator=ElasticNet(),\n",
    "                                         make_grain_features=False)\n",
    "knn_model = RegressionForecaster(estimator=KNeighborsRegressor(),\n",
    "                                 make_grain_features=False)\n",
    "random_forest_model = RegressionForecaster(estimator=RandomForestRegressor(),\n",
    "                                           make_grain_features=False)\n",
    "boosted_trees_model = RegressionForecaster(estimator=GradientBoostingRegressor(),\n",
    "                                           make_grain_features=False)\n",
    "\n",
    "ml_union = ForecasterUnion(forecaster_list=[\n",
    "    ('lasso', lasso_model), \n",
    "    ('elastic_net', elastic_net_model), \n",
    "    ('knn', knn_model), \n",
    "    ('random_forest', random_forest_model), \n",
    "    ('boosted_trees', boosted_trees_model)\n",
    "]) "
   ]
  },
  {
   "cell_type": "code",
   "execution_count": 25,
   "metadata": {
    "collapsed": true
   },
   "outputs": [],
   "source": [
    "ml_union.fit(train_feature_tsdf, y=train_feature_tsdf.ts_value)\n",
    "ml_results = ml_union.predict(test_feature_tsdf, retain_feature_column=True)"
   ]
  },
  {
   "cell_type": "code",
   "execution_count": 26,
   "metadata": {
    "collapsed": false
   },
   "outputs": [
    {
     "data": {
      "text/html": [
       "<div>\n",
       "<style>\n",
       "    .dataframe thead tr:only-child th {\n",
       "        text-align: right;\n",
       "    }\n",
       "\n",
       "    .dataframe thead th {\n",
       "        text-align: left;\n",
       "    }\n",
       "\n",
       "    .dataframe tbody tr th {\n",
       "        vertical-align: top;\n",
       "    }\n",
       "</style>\n",
       "<table border=\"1\" class=\"dataframe\">\n",
       "  <thead>\n",
       "    <tr style=\"text-align: right;\">\n",
       "      <th></th>\n",
       "      <th>ModelName</th>\n",
       "      <th>MAPE</th>\n",
       "      <th>MedianAPE</th>\n",
       "    </tr>\n",
       "  </thead>\n",
       "  <tbody>\n",
       "    <tr>\n",
       "      <th>4</th>\n",
       "      <td>random_forest</td>\n",
       "      <td>78.82</td>\n",
       "      <td>42.81</td>\n",
       "    </tr>\n",
       "    <tr>\n",
       "      <th>0</th>\n",
       "      <td>boosted_trees</td>\n",
       "      <td>78.46</td>\n",
       "      <td>45.37</td>\n",
       "    </tr>\n",
       "    <tr>\n",
       "      <th>2</th>\n",
       "      <td>naive</td>\n",
       "      <td>103.57</td>\n",
       "      <td>59.14</td>\n",
       "    </tr>\n",
       "    <tr>\n",
       "      <th>2</th>\n",
       "      <td>knn</td>\n",
       "      <td>129.85</td>\n",
       "      <td>65.37</td>\n",
       "    </tr>\n",
       "    <tr>\n",
       "      <th>1</th>\n",
       "      <td>elastic_net</td>\n",
       "      <td>125.11</td>\n",
       "      <td>65.59</td>\n",
       "    </tr>\n",
       "    <tr>\n",
       "      <th>3</th>\n",
       "      <td>seasonal_naive</td>\n",
       "      <td>180.54</td>\n",
       "      <td>65.99</td>\n",
       "    </tr>\n",
       "    <tr>\n",
       "      <th>0</th>\n",
       "      <td>arima</td>\n",
       "      <td>126.57</td>\n",
       "      <td>66.49</td>\n",
       "    </tr>\n",
       "    <tr>\n",
       "      <th>3</th>\n",
       "      <td>lasso</td>\n",
       "      <td>112.87</td>\n",
       "      <td>67.92</td>\n",
       "    </tr>\n",
       "    <tr>\n",
       "      <th>1</th>\n",
       "      <td>ets</td>\n",
       "      <td>187.89</td>\n",
       "      <td>75.73</td>\n",
       "    </tr>\n",
       "  </tbody>\n",
       "</table>\n",
       "</div>"
      ],
      "text/plain": [
       "        ModelName   MAPE  MedianAPE\n",
       "4   random_forest  78.82      42.81\n",
       "0   boosted_trees  78.46      45.37\n",
       "2           naive 103.57      59.14\n",
       "2             knn 129.85      65.37\n",
       "1     elastic_net 125.11      65.59\n",
       "3  seasonal_naive 180.54      65.99\n",
       "0           arima 126.57      66.49\n",
       "3           lasso 112.87      67.92\n",
       "1             ets 187.89      75.73"
      ]
     },
     "execution_count": 26,
     "metadata": {},
     "output_type": "execute_result"
    }
   ],
   "source": [
    "ml_model_MAPE = ml_results.calc_error(err_name='MAPE', by='ModelName')\n",
    "ml_model_MedianAPE = ml_results.calc_error(err_name='MedianAPE', \n",
    "                                           err_fun=calc_median_ape,\n",
    "                                           by='ModelName')\n",
    "ml_model_errors = ml_model_MAPE.merge(ml_model_MedianAPE, on='ModelName')\n",
    "all_errors = pd.concat([univariate_model_errors, ml_model_errors])\n",
    "all_errors.sort_values('MedianAPE')"
   ]
  },
  {
   "cell_type": "markdown",
   "metadata": {},
   "source": [
    "Some machine learning models was able to take advantage of the added features and the similarities between series to get better forecast accuracy."
   ]
  },
  {
   "cell_type": "markdown",
   "metadata": {},
   "source": [
    "**Cross Validation and Parameter Sweeping**    \n",
    "\n",
    "The package adapts some traditional machine learning functions for a forecasting application.  [RollingOriginValidator](https://docs.microsoft.com/python/api/ftk.model_selection.cross_validation.rollingoriginvalidator) does cross-validation temporally, respecting what would and would not be known in a forecasting framework. \n",
    "\n",
    "In the figure below, each square represents data from one time point. The blue squares represent training and orange squares represent testing in each fold. Testing data must come from the time points after the largest training time point. Otherwise, future data is leaked into training data causing the model evaluation to become invalid. \n",
    "<img src=\"https://azuremlpackages.blob.core.windows.net/images/cv_figure.png\">"
   ]
  },
  {
   "cell_type": "code",
   "execution_count": 27,
   "metadata": {
    "collapsed": false
   },
   "outputs": [
    {
     "name": "stdout",
     "output_type": "stream",
     "text": [
      "Best paramter: {'estimator__n_estimators': 100}\n"
     ]
    }
   ],
   "source": [
    "# Set up the `RollingOriginValidator` to do 2 folds of rolling origin cross-validation\n",
    "rollcv = RollingOriginValidator(n_splits=2)\n",
    "randomforest_model_for_cv = RegressionForecaster(estimator=RandomForestRegressor(),\n",
    "                                                 make_grain_features=False)\n",
    "\n",
    "# Set up our parameter grid and feed it to our grid search algorithm\n",
    "param_grid_rf = {'estimator__n_estimators': np.array([10, 50, 100])}\n",
    "grid_cv_rf = TSGridSearchCV(randomforest_model_for_cv, param_grid_rf, cv=rollcv)\n",
    "\n",
    "# fit and predict\n",
    "randomforest_cv_fitted= grid_cv_rf.fit(train_feature_tsdf, y=train_feature_tsdf.ts_value)\n",
    "print('Best paramter: {}'.format(randomforest_cv_fitted.best_params_))"
   ]
  },
  {
   "cell_type": "markdown",
   "metadata": {},
   "source": [
    "**Build the final pipeline**   \n",
    "Now that you have identified the best model, you can build and fit your final pipeline with all transformers and the best model. "
   ]
  },
  {
   "cell_type": "code",
   "execution_count": 28,
   "metadata": {
    "collapsed": false
   },
   "outputs": [
    {
     "name": "stdout",
     "output_type": "stream",
     "text": [
      "F1 2018-05-04 11:07:04,108 INFO azureml.timeseries - pipeline fit started. \n",
      "F1 2018-05-04 11:07:43,121 INFO azureml.timeseries - pipeline fit finished. Time elapsed 0:00:39.012880\n",
      "F1 2018-05-04 11:07:43,136 INFO azureml.timeseries - pipeline predict started. \n",
      "F1 2018-05-04 11:08:03,564 INFO azureml.timeseries - pipeline predict finished. Time elapsed 0:00:20.428147\n",
      "Median of APE of final pipeline: 42.54336821266968\n"
     ]
    }
   ],
   "source": [
    "random_forest_model_final = RegressionForecaster(estimator=RandomForestRegressor(100),make_grain_features=False)\n",
    "pipeline_ml.add_pipeline_step('random_forest_estimator', random_forest_model_final)\n",
    "pipeline_ml_fitted = pipeline_ml.fit(train_imputed_tsdf)\n",
    "final_prediction = pipeline_ml_fitted.predict(test_tsdf)\n",
    "final_median_ape = final_prediction.calc_error(err_name='MedianAPE', err_fun=calc_median_ape)\n",
    "print('Median of APE of final pipeline: {0}'.format(final_median_ape))"
   ]
  },
  {
   "cell_type": "markdown",
   "metadata": {},
   "source": [
    "## Operationalization\n",
    "\n",
    "In this section, you deploy a pipeline as an Azure Machine Learning web service and consume it for training and scoring.\n",
    "Currently, only pipelines there are not fitted are supported for deployment. Scoring the deployed web service retrains the model and generates forecasts on new data."
   ]
  },
  {
   "cell_type": "markdown",
   "metadata": {},
   "source": [
    "### Set model deployment parameters\n",
    "\n",
    "Change the following parameters to your own values. Make sure your Azure Machine Learning environment, model management account, and resource group are located in the same region."
   ]
  },
  {
   "cell_type": "code",
   "execution_count": 37,
   "metadata": {
    "collapsed": true
   },
   "outputs": [],
   "source": [
    "azure_subscription = '<subscription name>'\n",
    "\n",
    "# Two deployment modes are supported: 'local' and 'cluster'. \n",
    "# 'local' deployment deploys to a local docker container.\n",
    "# 'cluster' deployment deploys to a Azure Container Service Kubernetes-based cluster\n",
    "deployment_type = '<deployment mode>'\n",
    "\n",
    "# The deployment environment name. \n",
    "# This could be an existing environment or a new environment to be created automatically.\n",
    "aml_env_name = '<deployment env name>'\n",
    "\n",
    "# The resource group that contains the Azure resources related to the AML environment.\n",
    "aml_env_resource_group = '<env resource group name>'\n",
    "\n",
    "# The location where the Azure resources related to the AML environment are located at.\n",
    "aml_env_location = '<env resource location>'\n",
    "\n",
    "# The AML model management account name. This could be an existing model management account a new model management \n",
    "# account to be created automatically. \n",
    "model_management_account_name = '<model management account name>'\n",
    "\n",
    "# The resource group that contains the Azure resources related to the model management account.\n",
    "model_management_account_resource_group = '<model management account resource group>'\n",
    "\n",
    "# The location where the Azure resources related to the model management account are located at.\n",
    "model_management_account_location = '<model management account location>'\n",
    "\n",
    "# The name of the deployment/web service.\n",
    "deployment_name = '<web service name>'\n",
    "\n",
    "# The directory to store deployment related files, such as pipeline pickle file, score script, \n",
    "# and conda dependencies file. \n",
    "deployment_working_directory = '<local working directory>'"
   ]
  },
  {
   "cell_type": "markdown",
   "metadata": {},
   "source": [
    "### Define the Azure Machine Learning environment and deployment"
   ]
  },
  {
   "cell_type": "code",
   "execution_count": 46,
   "metadata": {
    "collapsed": true
   },
   "outputs": [],
    "source": [
      "aml_settings = AMLSettings(azure_subscription=azure_subscription,\n",
      "                     env_name=aml_env_name, \n",
      "                     env_resource_group=aml_env_resource_group,\n",
      "                     env_location=aml_env_location, \n",
      "                     model_management_account_name=model_management_account_name, \n",
      "                     model_management_account_resource_group=model_management_account_resource_group,\n",
      "                     model_management_account_location=model_management_account_location,\n",
      "                     cluster=deployment_type)\n",
      "\n",
      "random_forest_model_deploy = RegressionForecaster(estimator=RandomForestRegressor(),make_grain_features=False)\n",
      "pipeline_deploy = AzureMLForecastPipeline([('drop_columns', column_dropper), \n",
      "                                           ('fillna_imputer', fillna_imputer),\n",
      "                                           ('time_index_featurizer', time_index_featurizer),\n",
      "                                           ('random_forest_estimator', random_forest_model_deploy)\n",
      "                                          ])\n",
      "\n",
      "aml_deployment = ForecastWebserviceFactory(deployment_name=deployment_name,\n",
      "                                           aml_settings=aml_settings, \n",
      "                                           pipeline=pipeline_deploy,\n",
      "                                           deployment_working_directory=deployment_working_directory,\n",
      "                                           ftk_wheel_loc='https://azuremlpackages.blob.core.windows.net/forecasting/azuremlftk-0.1.18055.3a1-py3-none-any.whl')"
    ]
  },
  {
   "cell_type": "markdown",
   "metadata": {},
   "source": [
    "### Create the web service"
   ]
  },
  {
   "cell_type": "code",
   "execution_count": 52,
   "metadata": {
    "collapsed": true
   },
   "outputs": [],
   "source": [
    "# This step can take 5 to 20 minutes\n",
    "aml_deployment.deploy()"
   ]
  },
  {
   "cell_type": "markdown",
   "metadata": {},
   "source": [
    "### Score the web service\n",
    "\n",
    "To score a small dataset, use the [score](https://docs.microsoft.com/python/api/ftk.operationalization.deployment.amlwebservice)  method to submit one web service call for all the data."
   ]
  },
  {
   "cell_type": "code",
   "execution_count": 50,
   "metadata": {
    "collapsed": true
   },
   "outputs": [],
   "source": [
    "# Need to add empty prediction columns to the validation data frame and create a ForecastDataFrame.\n",
    "# The scoring API will be updated in later versions to take TimeSeriesDataFrame directly. \n",
    "validate_tsdf = test_tsdf.assign(PointForecast=0.0, DistributionForecast=np.nan)\n",
    "validate_fcast = ForecastDataFrame(validate_tsdf, pred_point='PointForecast', pred_dist='DistributionForecast')\n",
    "\n",
    "# Define Score Context\n",
    "score_context = ScoreContext(input_training_data_tsdf=train_imputed_tsdf,\n",
    "                             input_scoring_data_fcdf=validate_fcast, \n",
    "                             pipeline_execution_type='train_predict')\n",
    "\n",
    "# Get deployed web service\n",
    "aml_web_service = aml_deployment.get_deployment()\n",
    "\n",
    "# Score the web service\n",
    "results = aml_web_service.score(score_context=score_context)"
   ]
  },
  {
   "cell_type": "markdown",
   "metadata": {},
   "source": [
    "To score a large dataset, use the [parallel scoring](https://docs.microsoft.com/python/api/ftk.operationalization.deployment.amlwebservice) mode to submit multiple web service calls, one for each group of data."
   ]
  },
  {
   "cell_type": "code",
   "execution_count": 51,
   "metadata": {
    "collapsed": true
   },
   "outputs": [],
   "source": [
    "results = aml_web_service.score(score_context=score_context, method='parallel')"
   ]
  }
 ],
 "metadata": {
  "anaconda-cloud": {},
  "kernelspec": {
   "display_name": "Python [default]",
   "language": "python",
   "name": "python3"
  },
  "language_info": {
   "codemirror_mode": {
    "name": "ipython",
    "version": 3
   },
   "file_extension": ".py",
   "mimetype": "text/x-python",
   "name": "python",
   "nbconvert_exporter": "python",
   "pygments_lexer": "ipython3",
   "version": "3.5.2"
  }
 },
 "nbformat": 4,
 "nbformat_minor": 1
}
